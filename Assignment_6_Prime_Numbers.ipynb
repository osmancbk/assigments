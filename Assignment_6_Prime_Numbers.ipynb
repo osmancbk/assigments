{
 "cells": [
  {
   "cell_type": "markdown",
   "metadata": {},
   "source": [
    "Task : Print the prime numbers which are between 1 to entered limit number (n)."
   ]
  },
  {
   "cell_type": "code",
   "execution_count": 8,
   "metadata": {},
   "outputs": [
    {
     "name": "stdout",
     "output_type": "stream",
     "text": [
      "Please, write a number : 100\n",
      "[2, 3, 4, 5, 7, 9, 11, 13, 17, 19, 23, 25, 29, 31, 37, 41, 43, 47, 49, 53, 59, 61, 67, 71, 73, 79, 83, 89, 97]\n"
     ]
    }
   ],
   "source": [
    "number = input('Please, write a number : ')\n",
    "\n",
    "if number.isdecimal() :\n",
    "    \n",
    "    number = int(number)    \n",
    "    prime_number = []\n",
    "\n",
    "    for j in range(1, number + 1) :\n",
    "        count = 0\n",
    "\n",
    "        for i in range(1, j + 1) :\n",
    "            if not (j % i) : count += 1\n",
    "\n",
    "        if (j != 1) and (j != 0) and (count <= 3):\n",
    "            prime_number.append(j)\n",
    "        \n",
    "    print(prime_number)\n",
    "else :\n",
    "    print('Please, write positive integer...')"
   ]
  }
 ],
 "metadata": {
  "kernelspec": {
   "display_name": "Python 3",
   "language": "python",
   "name": "python3"
  }
 },
 "nbformat": 4,
 "nbformat_minor": 4
}
