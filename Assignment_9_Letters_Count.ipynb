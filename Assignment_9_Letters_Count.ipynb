{
 "cells": [
  {
   "cell_type": "markdown",
   "metadata": {},
   "source": [
    "Task:\n",
    "\n",
    "- Count the number of each letter in a sentence.\n",
    "- The department you work for undertook a project construction that makes word / text analysis. You are asked to calculate the number of letters or any chars in the sentences entered under this project.\n",
    "- Write a Python program that;\n",
    "    - takes a sentence from the user,\n",
    "    - counts the number of each letter of the sentence,\n",
    "    - collects the letters/chars as a key and the counted numbers as a value in a dictionary.\n"
   ]
  },
  {
   "cell_type": "code",
   "execution_count": 6,
   "metadata": {},
   "outputs": [
    {
     "name": "stdout",
     "output_type": "stream",
     "text": [
      "Please, write a sentence: haber\n",
      "{'b': 1, 'e': 1, 'a': 1, 'r': 1, 'h': 1}\n"
     ]
    }
   ],
   "source": [
    "sent = input('Please, write a sentence: ')\n",
    "char = set(sent)\n",
    "dct = {}\n",
    "for i in char:\n",
    "    dct[i] = sent.count(i)\n",
    "print(dct)"
   ]
  }
 ],
 "metadata": {
  "kernelspec": {
   "display_name": "Python 3",
   "language": "python",
   "name": "python3"
  }
 },
 "nbformat": 4,
 "nbformat_minor": 4
}
