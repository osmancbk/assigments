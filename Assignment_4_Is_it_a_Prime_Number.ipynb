{
 "cells": [
  {
   "cell_type": "markdown",
   "metadata": {},
   "source": [
    "Task : Write a program that takes a number from the user and prints the result to check if it is a prime number."
   ]
  },
  {
   "cell_type": "code",
   "execution_count": 10,
   "metadata": {},
   "outputs": [
    {
     "name": "stdout",
     "output_type": "stream",
     "text": [
      "Please, write a number. Let's find out its to be prime or not: 78\n",
      "78 is not a prime number\n"
     ]
    }
   ],
   "source": [
    "number = input(\"Please, write a number. Let's find out its to be prime or not: \")\n",
    "\n",
    "if number.isdecimal() :\n",
    "    number = int(number)\n",
    "    if number > 1 :\n",
    "        i = 2\n",
    "        while i < number:\n",
    "            if number % i == 0:\n",
    "                number = f'{number} is not a prime number'\n",
    "                print(number)\n",
    "                break\n",
    "            i += 1\n",
    "        else:\n",
    "            number = f'{number} is a prime number'\n",
    "            print(number)\n",
    "    else:\n",
    "        print(f\"{number} is not a prime number\")\n",
    "else:\n",
    "    print('Please, write a number') \n"
   ]
  }
 ],
 "metadata": {
  "kernelspec": {
   "display_name": "Python 3",
   "language": "python",
   "name": "python3"
  },
  "language_info": {
   "codemirror_mode": {
    "name": "ipython",
    "version": 3
   },
   "file_extension": ".py",
   "mimetype": "text/x-python",
   "name": "python",
   "nbconvert_exporter": "python",
   "pygments_lexer": "ipython3",
   "version": "3.7.6"
  }
 },
 "nbformat": 4,
 "nbformat_minor": 4
}
