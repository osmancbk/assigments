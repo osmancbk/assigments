{
 "cells": [
  {
   "cell_type": "markdown",
   "metadata": {},
   "source": [
    "#### Print numbers from 1 to 100 inclusively following these instructions:\n",
    "    if a number is multiple of 3, print \"Fizz\" instead of this number,\n",
    "    if a number is multiple of 5, print \"Buzz\" instead of this number,\n",
    "    for numbers that are multiples of both 3 and 5, print \"FizzBuzz\",\n",
    "    print the rest of the numbers unchanged.\n",
    "#### Output each value on a separate line..."
   ]
  },
  {
   "cell_type": "code",
   "execution_count": 5,
   "metadata": {},
   "outputs": [
    {
     "name": "stdout",
     "output_type": "stream",
     "text": [
      "Bir sayi giriniz: 15\n",
      "1\n",
      "2\n",
      "Fizz\n",
      "4\n",
      "Buzz\n",
      "Fizz\n",
      "7\n",
      "8\n",
      "Fizz\n",
      "Buzz\n",
      "11\n",
      "Fizz\n",
      "13\n",
      "14\n",
      "FizzBuzz\n"
     ]
    }
   ],
   "source": [
    "while True:\n",
    "    number = input('Bir sayi giriniz: ')\n",
    "    \n",
    "    if not number.isdecimal():\n",
    "        print('Lutfen gecerli bir sayi giriniz...')        \n",
    "    elif int(number) >= 0:\n",
    "        number = int(number)\n",
    "        for i in range(1, number + 1):\n",
    "            if i % 3 == 0 and i % 5 == 0:\n",
    "                print('FizzBuzz')\n",
    "            elif i % 3 == 0:\n",
    "                print('Fizz')\n",
    "            elif i % 5 == 0:\n",
    "                print('Buzz')\n",
    "            else:\n",
    "                print(i)\n",
    "        break\n",
    "        "
   ]
  }
 ],
 "metadata": {
  "kernelspec": {
   "display_name": "Python 3",
   "language": "python",
   "name": "python3"
  },
  "language_info": {
   "codemirror_mode": {
    "name": "ipython",
    "version": 3
   },
   "file_extension": ".py",
   "mimetype": "text/x-python",
   "name": "python",
   "nbconvert_exporter": "python",
   "pygments_lexer": "ipython3",
   "version": "3.7.6"
  }
 },
 "nbformat": 4,
 "nbformat_minor": 4
}