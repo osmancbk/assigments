{
 "cells": [
  {
   "cell_type": "markdown",
   "metadata": {},
   "source": [
    "<h2>First method</h2>"
   ]
  },
  {
   "cell_type": "code",
   "execution_count": 26,
   "metadata": {},
   "outputs": [
    {
     "name": "stdout",
     "output_type": "stream",
     "text": [
      "Kac elemanli fibonacci dizisi olusturmak istediginizi giriniz: 10\n",
      "[1, 1, 2, 3, 5, 8, 13, 21, 34, 55]\n"
     ]
    }
   ],
   "source": [
    "fibo = []\n",
    "n = int(input('Kac elemanli fibonacci dizisi olusturmak istediginizi giriniz: '))\n",
    "\n",
    "for i in (range(n)):\n",
    "    if i == 0:\n",
    "        fibo.append(1)\n",
    "    elif i == 1:\n",
    "        fibo.append(1)\n",
    "    else:\n",
    "        fibo.append(fibo[-1] + fibo[-2])\n",
    "print(fibo)    "
   ]
  },
  {
   "cell_type": "markdown",
   "metadata": {},
   "source": [
    "<h2>Second method</h2>"
   ]
  },
  {
   "cell_type": "code",
   "execution_count": 5,
   "metadata": {},
   "outputs": [
    {
     "name": "stdout",
     "output_type": "stream",
     "text": [
      "Kac elemanli fibonacci dizisi olusturmak istediginizi giriniz: 10\n",
      "[1, 1, 2, 3, 5, 8, 13, 21, 34, 55]\n"
     ]
    }
   ],
   "source": [
    "n = int(input('Kac elemanli fibonacci dizisi olusturmak istediginizi giriniz: '))\n",
    "\n",
    "fibo = []\n",
    "\n",
    "for i in range(-2, n-2) :\n",
    "    if i < 0 : fibo.append(1)\n",
    "    else : fibo.append(fibo[i] + fibo[i + 1])\n",
    "print(fibo)"
   ]
  },
  {
   "cell_type": "markdown",
   "metadata": {},
   "source": [
    "<h2>Third method</h2>"
   ]
  },
  {
   "cell_type": "code",
   "execution_count": 8,
   "metadata": {},
   "outputs": [
    {
     "name": "stdout",
     "output_type": "stream",
     "text": [
      "Bir sayi girin, bu sayiya kadar olan fibonacci sayilarini getirelim: 55\n",
      "1 1 2 3 5 8 13 21 34 55 "
     ]
    }
   ],
   "source": [
    "n = int(input('Bir sayi girin, bu sayiya kadar olan fibonacci sayilarini getirelim: '))\n",
    "\n",
    "a, b = 1, 1\n",
    "\n",
    "while a <= n :\n",
    "    print(a, end = ' ')\n",
    "    a, b = b, a + b\n",
    "    "
   ]
  }
 ],
 "metadata": {
  "kernelspec": {
   "display_name": "Python 3",
   "language": "python",
   "name": "python3"
  },
  "language_info": {
   "codemirror_mode": {
    "name": "ipython",
    "version": 3
   },
   "file_extension": ".py",
   "mimetype": "text/x-python",
   "name": "python",
   "nbconvert_exporter": "python",
   "pygments_lexer": "ipython3",
   "version": "3.7.6"
  }
 },
 "nbformat": 4,
 "nbformat_minor": 4
}