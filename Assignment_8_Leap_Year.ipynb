{
 "cells": [
  {
   "cell_type": "markdown",
   "metadata": {},
   "source": [
    "Task:\n",
    "\n",
    "Find out if a given year is a \"leap\" year.\n",
    "\n",
    "In the Gregorian calendar, three criteria must be taken into account to identify leap years:\n",
    "The year must be evenly divisible by 4;\n",
    "If the year can also be evenly divided by 100, it is not a leap year; unless...\n",
    "The year is also evenly divisible by 400. Then it is a leap year.\n",
    "According to these rules, the years 2000 and 2400 are leap years, while 1800, 1900, 2100, 2200, 2300, and 2500 are not the leap years.\n",
    "Write a Python program that prints such as \"2020 is a leap year\" if the given year by the user is a leap year, prints such as \"2019 is not a leap year\" otherwise."
   ]
  },
  {
   "cell_type": "code",
   "execution_count": 2,
   "metadata": {},
   "outputs": [
    {
     "name": "stdout",
     "output_type": "stream",
     "text": [
      "Bir yil girin leap olup olmadigini  kontrol edelim: 500\n",
      "500 artik bir yil degildir\n"
     ]
    }
   ],
   "source": [
    "year = input('Bir yil girin leap olup olmadigini  kontrol edelim: ')\n",
    "while True:    \n",
    "    if not year.isdecimal():\n",
    "        year = input('Bir yil girin leap olup olmadigini  kontrol edelim: ')\n",
    "    elif int(year) > 0:\n",
    "        if (int(year) % 4 == 0 and int(year) % 100 != 0) or (int(year) % 400 == 0):\n",
    "            print(f'{year} artik bir yildir')\n",
    "            break\n",
    "        else:\n",
    "            print(f'{year} artik bir yil degildir')\n",
    "            break"
   ]
  }
 ],
 "metadata": {
  "kernelspec": {
   "display_name": "Python 3",
   "language": "python",
   "name": "python3"
  },
  "language_info": {
   "codemirror_mode": {
    "name": "ipython",
    "version": 3
   },
   "file_extension": ".py",
   "mimetype": "text/x-python",
   "name": "python",
   "nbconvert_exporter": "python",
   "pygments_lexer": "ipython3",
   "version": "3.7.6"
  }
 },
 "nbformat": 4,
 "nbformat_minor": 4
}
